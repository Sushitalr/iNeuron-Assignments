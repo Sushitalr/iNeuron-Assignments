{
  "nbformat": 4,
  "nbformat_minor": 0,
  "metadata": {
    "colab": {
      "provenance": [],
      "authorship_tag": "ABX9TyMyjnx+FzPF5lZS5PQB5ILe"
    },
    "kernelspec": {
      "name": "python3",
      "display_name": "Python 3"
    },
    "language_info": {
      "name": "python"
    }
  },
  "cells": [
    {
      "cell_type": "markdown",
      "source": [
        "\"\"\"\" \n",
        "Question 1) What are the two values of the Boolean data type? How do you write them?\n",
        "\n",
        "\"\"\"\"\n",
        "\n",
        "``` \n",
        "Answers: The two boolean data types are True-0 & False-1.\n",
        "\n",
        "```"
      ],
      "metadata": {
        "id": "P07gqI0uuuSb"
      }
    },
    {
      "cell_type": "markdown",
      "source": [
        "How to write boolean data type? "
      ],
      "metadata": {
        "id": "GhoAU9odxQ4t"
      }
    },
    {
      "cell_type": "code",
      "source": [
        "a=input(\"a: \")\n",
        "a==1\n"
      ],
      "metadata": {
        "id": "Uu4pQaIExZPH",
        "colab": {
          "base_uri": "https://localhost:8080/"
        },
        "outputId": "314de536-9e06-4d93-dbb1-72ff5a2a2b16"
      },
      "execution_count": null,
      "outputs": [
        {
          "name": "stdout",
          "output_type": "stream",
          "text": [
            "a: 2\n"
          ]
        },
        {
          "output_type": "execute_result",
          "data": {
            "text/plain": [
              "False"
            ]
          },
          "metadata": {},
          "execution_count": 7
        }
      ]
    },
    {
      "cell_type": "markdown",
      "source": [
        "Question 2) What are the three different types of Boolean operators?\n",
        "\n",
        "Answer: And, Or & Not"
      ],
      "metadata": {
        "id": "U75AIPeeCyfd"
      }
    },
    {
      "cell_type": "markdown",
      "source": [
        "Question 3) Make a list of each Boolean operator's truth tables (i.e. every possible combination of Boolean values for the operator and what it evaluate )."
      ],
      "metadata": {
        "id": "YuPMu3_QC6S7"
      }
    },
    {
      "cell_type": "code",
      "source": [
        "#and\n",
        "\n",
        "a=True and True\n",
        "print(a)\n",
        "b=True and False\n",
        "print(b)\n",
        "c=False and False\n",
        "print(c)\n",
        "d=False and True\n",
        "print(d)\n",
        "\n",
        "print(\"------\")\n",
        "\n",
        "#or\n",
        "\n",
        "a=True or True\n",
        "print(a)\n",
        "b=True or False\n",
        "print(b)\n",
        "c=False or False\n",
        "print(c)\n",
        "d=False or True\n",
        "print(d)\n",
        "\n",
        "print(\"------\")\n",
        "\n",
        "#not\n",
        "a= not True\n",
        "print(a)\n",
        "b= not False\n",
        "print(b)"
      ],
      "metadata": {
        "colab": {
          "base_uri": "https://localhost:8080/"
        },
        "id": "o7sZJSp6C9cO",
        "outputId": "05263492-ca7c-45f2-d97d-739a91c022ba"
      },
      "execution_count": null,
      "outputs": [
        {
          "output_type": "stream",
          "name": "stdout",
          "text": [
            "True\n",
            "False\n",
            "False\n",
            "False\n",
            "------\n",
            "True\n",
            "True\n",
            "False\n",
            "True\n",
            "------\n",
            "False\n",
            "True\n"
          ]
        }
      ]
    },
    {
      "cell_type": "markdown",
      "source": [
        "Question 4) What are the values of the following expressions? \n",
        "\n",
        "(5 > 4) and (3 == 5)\n",
        "not (5 > 4)\n",
        "(5 > 4) or (3 == 5)\n",
        "not ((5 > 4) or (3 == 5))\n",
        "(True and True) and (True == False)\n",
        "(not False) or (not True)\n"
      ],
      "metadata": {
        "id": "BqxHGRXGR9Hk"
      }
    },
    {
      "cell_type": "code",
      "source": [
        "a=(5>4) and (3==5)\n",
        "print(f\"value of (5>4) and (3==5) is: {a}\")\n",
        "\n",
        "b=not(5>4)\n",
        "print(f\"value of not (5>4) is: {b}\")\n",
        "\n",
        "c=(5 > 4) or (3 == 5)\n",
        "print(f\"value of not (5 > 4) or (3 == 5) is: {c}\")\n",
        "\n",
        "d=not ((5 > 4) or (3 == 5))\n",
        "print(f\"value of not ((5 > 4) or (3 == 5)) is: {d}\")\n",
        "\n",
        "e=(True and True) and (True == False)\n",
        "print(f\"(True and True) and (True == False) is: {e}\")\n",
        "\n",
        "f=(not False) or (not True)\n",
        "print(f\"(not False) or (not True) is: {e}\")"
      ],
      "metadata": {
        "colab": {
          "base_uri": "https://localhost:8080/"
        },
        "id": "XX4KFOsjSXzI",
        "outputId": "91ae3842-823e-4eeb-bc6a-e3536c9ddd37"
      },
      "execution_count": null,
      "outputs": [
        {
          "output_type": "stream",
          "name": "stdout",
          "text": [
            "value of (5>4) and (3==5) is: False\n",
            "value of not (5>4) is: False\n",
            "value of not (5 > 4) or (3 == 5) is: True\n",
            "value of not ((5 > 4) or (3 == 5)) is: False\n",
            "(True and True) and (True == False) is: False\n",
            "(not False) or (not True) is: False\n"
          ]
        }
      ]
    },
    {
      "cell_type": "markdown",
      "source": [
        "Question 5) What are the six comparison operators?\n",
        "\n",
        "Answers: \n",
        "\n",
        "> < - less then\n",
        "> <= less then equal to\n",
        "> > - great then\n",
        "> >= - greater equal to\n",
        "> == - equal to\n",
        "> != - not equal to"
      ],
      "metadata": {
        "id": "fA21HmKYJIFg"
      }
    },
    {
      "cell_type": "markdown",
      "source": [
        "Question 6) How do you tell the difference between the equal to and assignment operators?Describe a condition and when you would use one."
      ],
      "metadata": {
        "id": "71-BItzR66yJ"
      }
    },
    {
      "cell_type": "markdown",
      "source": [
        "Question 7) Identify the three blocks in this code:\n",
        "spam = 0\n",
        "if spam == 10:\n",
        "print('eggs')\n",
        "if spam > 5:\n",
        "print('bacon')\n",
        "else:\n",
        "print('ham')\n",
        "print('spam')\n",
        "print('spam')\n"
      ],
      "metadata": {
        "id": "Wt9u2t4u7E18"
      }
    },
    {
      "cell_type": "code",
      "source": [],
      "metadata": {
        "id": "eMAI1syF69qX"
      },
      "execution_count": null,
      "outputs": []
    },
    {
      "cell_type": "markdown",
      "source": [
        "Question 8)\n",
        "Write code that prints Hello if 1 is stored in spam, prints Howdy if 2 is stored in spam, and prints Greetings! if anything else is stored in spam."
      ],
      "metadata": {
        "id": "4psfLouq1huY"
      }
    },
    {
      "cell_type": "code",
      "source": [
        "spam=int(input())\n",
        "\n",
        "if spam==1:\n",
        "  print(\"hello\")\n",
        "elif spam==2:\n",
        "  print(\"howdy\")\n",
        "else:\n",
        "  print(\"greetings!\")\n"
      ],
      "metadata": {
        "colab": {
          "base_uri": "https://localhost:8080/"
        },
        "id": "K7tktxNj1kFB",
        "outputId": "1603a608-03e3-41cf-ba45-d94eb9f188eb"
      },
      "execution_count": null,
      "outputs": [
        {
          "output_type": "stream",
          "name": "stdout",
          "text": [
            "1\n",
            "hello\n"
          ]
        }
      ]
    },
    {
      "cell_type": "markdown",
      "source": [
        "Question 9) If your programme is stuck in an endless loop, what keys you’ll press?\n",
        "\n",
        "Answer: We can pause the programme by using mouse or we can use Ctrl+C shortcut key."
      ],
      "metadata": {
        "id": "xfqle-Lv7Mys"
      }
    },
    {
      "cell_type": "markdown",
      "source": [
        "Question 10) How can you tell the difference between break and continue?\n",
        "\n",
        "Answer: Break means it will stop the loop and continue means the loop will be in continous loop. "
      ],
      "metadata": {
        "id": "b9fZU7if7hI5"
      }
    },
    {
      "cell_type": "markdown",
      "source": [
        "Question 11) In a for loop, what is the difference between range(10), range(0, 10), and range(0, 10, 1)?\n",
        "\n",
        "Answer: range(10) is the starting point \n",
        "range(0,10) is the start & end point \n",
        "range(0,10,1) is the start, end, step"
      ],
      "metadata": {
        "id": "z_IAhfONCGFR"
      }
    },
    {
      "cell_type": "markdown",
      "source": [
        "Question 12) Write a short program that prints the numbers 1 to 10 using a for loop. Then write an equivalent program that prints the numbers 1 to 10 using a while loop."
      ],
      "metadata": {
        "id": "N97yY7CmCj4z"
      }
    },
    {
      "cell_type": "code",
      "source": [
        "for a in range(1,11):\n",
        "  print(a)\n"
      ],
      "metadata": {
        "colab": {
          "base_uri": "https://localhost:8080/"
        },
        "id": "zuS99gzdCmXs",
        "outputId": "ba482d93-5130-4268-8df5-3f8007bdc0d9"
      },
      "execution_count": null,
      "outputs": [
        {
          "output_type": "stream",
          "name": "stdout",
          "text": [
            "1\n",
            "2\n",
            "3\n",
            "4\n",
            "5\n",
            "6\n",
            "7\n",
            "8\n",
            "9\n",
            "10\n"
          ]
        }
      ]
    },
    {
      "cell_type": "code",
      "source": [
        "a=1\n",
        "\n",
        "while a in range(0,11):\n",
        "  print(a)\n",
        "  a=a+1"
      ],
      "metadata": {
        "colab": {
          "base_uri": "https://localhost:8080/"
        },
        "id": "fPjBSAw0E2si",
        "outputId": "e5f87120-5471-4ea0-8726-923c45cdd70b"
      },
      "execution_count": null,
      "outputs": [
        {
          "output_type": "stream",
          "name": "stdout",
          "text": [
            "1\n",
            "2\n",
            "3\n",
            "4\n",
            "5\n",
            "6\n",
            "7\n",
            "8\n",
            "9\n",
            "10\n"
          ]
        }
      ]
    },
    {
      "cell_type": "markdown",
      "source": [
        "Question 13? If you had a function named bacon() inside a module named spam, how would you call it after importing spam?"
      ],
      "metadata": {
        "id": "7hdF1Ab7-aOp"
      }
    }
  ]
}